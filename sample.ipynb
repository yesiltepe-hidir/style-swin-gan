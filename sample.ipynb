{
 "cells": [
  {
   "cell_type": "code",
   "execution_count": 61,
   "metadata": {},
   "outputs": [],
   "source": [
    "import torch\n",
    "import warnings\n",
    "\n",
    "warnings.filterwarnings('ignore')"
   ]
  },
  {
   "cell_type": "code",
   "execution_count": 62,
   "metadata": {},
   "outputs": [],
   "source": [
    "state_dict = torch.load('checkpoints/state_dict')"
   ]
  },
  {
   "cell_type": "code",
   "execution_count": 63,
   "metadata": {},
   "outputs": [],
   "source": [
    "from models.generator import Generator\n",
    "from models.discriminator import Discriminator"
   ]
  },
  {
   "cell_type": "code",
   "execution_count": 64,
   "metadata": {},
   "outputs": [],
   "source": [
    "args = state_dict['args']\n",
    "generator = Generator(\n",
    "        dim=args.dim,\n",
    "        style_dim=args.style_dim,\n",
    "        n_style_layers=args.n_style_layers,\n",
    "        n_heads=args.n_heads,\n",
    "        resolution=args.resolution,\n",
    "        attn_drop=args.attn_drop\n",
    "    )"
   ]
  },
  {
   "cell_type": "code",
   "execution_count": 65,
   "metadata": {},
   "outputs": [],
   "source": [
    "discriminator = Discriminator(\n",
    "    n_activ_maps=args.n_activ_maps,\n",
    "    n_channels=3,\n",
    "    resolution=args.resolution\n",
    ")"
   ]
  },
  {
   "cell_type": "code",
   "execution_count": 66,
   "metadata": {},
   "outputs": [],
   "source": [
    "args = state_dict['args']\n",
    "style_dim = args.style_dim\n",
    "noise = torch.randn((1, style_dim))\n",
    "img1 = generator(noise*1000000000)\n",
    "img2 = generator(noise*0)"
   ]
  },
  {
   "cell_type": "code",
   "execution_count": 67,
   "metadata": {},
   "outputs": [
    {
     "name": "stderr",
     "output_type": "stream",
     "text": [
      "Clipping input data to the valid range for imshow with RGB data ([0..1] for floats or [0..255] for integers).\n"
     ]
    },
    {
     "data": {
      "text/plain": [
       "(-0.5, 63.5, 63.5, -0.5)"
      ]
     },
     "execution_count": 67,
     "metadata": {},
     "output_type": "execute_result"
    },
    {
     "data": {
      "image/png": "[encoded data removed]",
      "text/plain": [
       "<Figure size 432x288 with 1 Axes>"
      ]
     },
     "metadata": {
      "needs_background": "light"
     },
     "output_type": "display_data"
    }
   ],
   "source": [
    "import matplotlib.pyplot as plt\n",
    "img = img1[0].permute(1,2,0).detach()\n",
    "plt.imshow(img)\n",
    "plt.axis('off')"
   ]
  },
  {
   "cell_type": "code",
   "execution_count": 68,
   "metadata": {},
   "outputs": [
    {
     "data": {
      "text/plain": [
       "tensor([[[[0.6642]]]], grad_fn=<SigmoidBackward0>)"
      ]
     },
     "execution_count": 68,
     "metadata": {},
     "output_type": "execute_result"
    }
   ],
   "source": [
    "fake_img = torch.rand_like(img2)\n",
    "discriminator(fake_img)"
   ]
  },
  {
   "cell_type": "code",
   "execution_count": 1,
   "metadata": {},
   "outputs": [],
   "source": [
    "import torch\n",
    "import torchvision\n",
    "from torchvision import transforms\n",
    "import matplotlib.pyplot as plt\n",
    "\n",
    "import warnings\n",
    "warnings.filterwarnings('ignore')"
   ]
  },
  {
   "cell_type": "code",
   "execution_count": 14,
   "metadata": {},
   "outputs": [],
   "source": [
    "def get_data_loader(datasetname, root, batch_size):\n",
    "  if datasetname == 'LSUN':\n",
    "      dataset = torchvision.datasets.LSUN(\n",
    "                    root = root,\n",
    "                    classes = ['church_outdoor_train'],\n",
    "                    transform = transforms.Compose([\n",
    "                              transforms.Resize(64),\n",
    "                              transforms.CenterCrop(64),\n",
    "                              transforms.ToTensor()\n",
    "                              ])\n",
    "                    )\n",
    "      dataloader = torch.utils.data.DataLoader(\n",
    "                              dataset,\n",
    "                              batch_size = batch_size,\n",
    "                              num_workers = 2,\n",
    "                              pin_memory = True\n",
    "      )\n",
    "\n",
    "  else:\n",
    "    raise ValueError(f'No dataset named {datasetname}!')\n",
    "  \n",
    "  return dataloader"
   ]
  },
  {
   "cell_type": "code",
   "execution_count": 15,
   "metadata": {},
   "outputs": [],
   "source": [
    "# Dataset\n",
    "datasetname = 'LSUN'\n",
    "# Data Root\n",
    "root = 'data/'\n",
    "# Parameters\n",
    "batch_size = 256\n",
    "# Get Dataloader\n",
    "loader = get_data_loader(datasetname, root, batch_size)"
   ]
  },
  {
   "cell_type": "code",
   "execution_count": 16,
   "metadata": {},
   "outputs": [],
   "source": [
    "def visualize_data(loader, n):\n",
    "  m = n * n\n",
    "  for i in range(1, m + 1):\n",
    "    plt.subplot(n, n, i)\n",
    "    data = next(iter(loader))[0][i].permute(1, 2, 0)\n",
    "    print(data.shape)\n",
    "    # print(discriminator(data.reshape(1, 64, 64, 3).permute(0, 3, 1, 2)))\n",
    "    plt.imshow(data)"
   ]
  },
  {
   "cell_type": "code",
   "execution_count": 13,
   "metadata": {},
   "outputs": [
    {
     "name": "stdout",
     "output_type": "stream",
     "text": [
      "torch.Size([64, 64, 3])\n"
     ]
    },
    {
     "data": {
      "image/png": "[encoded data removed]",
      "text/plain": [
       "<Figure size 432x288 with 1 Axes>"
      ]
     },
     "metadata": {
      "needs_background": "light"
     },
     "output_type": "display_data"
    }
   ],
   "source": [
    "visualize_data(loader, 1)"
   ]
  },
  {
   "cell_type": "code",
   "execution_count": 17,
   "metadata": {},
   "outputs": [
    {
     "ename": "NameError",
     "evalue": "name 'img1' is not defined",
     "output_type": "error",
     "traceback": [
      "\u001b[0;31m---------------------------------------------------------------------------\u001b[0m",
      "\u001b[0;31mNameError\u001b[0m                                 Traceback (most recent call last)",
      "\u001b[1;32m/home/finch/git/style-swin-gan/sample.ipynb Cell 14'\u001b[0m in \u001b[0;36m<cell line: 1>\u001b[0;34m()\u001b[0m\n\u001b[0;32m----> <a href='vscode-notebook-cell:/home/finch/git/style-swin-gan/sample.ipynb#ch0000013?line=0'>1</a>\u001b[0m torch\u001b[39m.\u001b[39msum(img1\u001b[39m!=\u001b[39mimg2)\n",
      "\u001b[0;31mNameError\u001b[0m: name 'img1' is not defined"
     ]
    }
   ],
   "source": [
    "torch.sum(img1!=img2)"
   ]
  },
  {
   "cell_type": "code",
   "execution_count": 18,
   "metadata": {},
   "outputs": [
    {
     "name": "stdout",
     "output_type": "stream",
     "text": [
      "torch.Size([64, 64, 3])\n"
     ]
    },
    {
     "data": {
      "image/png": "[encoded data removed]",
      "text/plain": [
       "<Figure size 432x288 with 1 Axes>"
      ]
     },
     "metadata": {
      "needs_background": "light"
     },
     "output_type": "display_data"
    }
   ],
   "source": [
    "visualize_data(loader, 1)"
   ]
  },
  {
   "cell_type": "code",
   "execution_count": 75,
   "metadata": {},
   "outputs": [
    {
     "name": "stdout",
     "output_type": "stream",
     "text": [
      "tensor(-3.7983, grad_fn=<MinBackward1>)\n",
      "tensor(2.4524, grad_fn=<MaxBackward1>)\n"
     ]
    }
   ],
   "source": [
    "print(img2.min())\n",
    "print(img2.max())"
   ]
  },
  {
   "cell_type": "code",
   "execution_count": 76,
   "metadata": {},
   "outputs": [],
   "source": [
    "t = noise"
   ]
  },
  {
   "cell_type": "code",
   "execution_count": null,
   "metadata": {},
   "outputs": [],
   "source": []
  },
  {
   "cell_type": "code",
   "execution_count": 10,
   "metadata": {},
   "outputs": [
    {
     "data": {
      "text/plain": [
       "tensor([[ 1.1421e+00,  5.0329e-01, -1.5423e-01, -1.0201e+00, -5.9758e-02,\n",
       "          1.2274e+00, -4.0575e-01, -6.3474e-01,  3.5831e-01,  1.0383e+00,\n",
       "         -1.3535e+00, -1.1829e+00, -8.8681e-01,  2.4616e-01,  4.0922e-02,\n",
       "          7.7129e-01,  1.3546e+00,  1.0218e+00,  1.6678e+00, -1.1462e-01,\n",
       "         -3.0423e-02,  1.0832e+00, -1.6795e-01,  1.6680e-01, -2.9542e-01,\n",
       "          1.6191e-01,  2.2318e+00, -6.1487e-01,  9.0789e-01,  1.3390e+00,\n",
       "         -2.7850e-01, -1.6832e-01, -3.2627e-01, -5.6983e-01, -9.0154e-01,\n",
       "         -5.8674e-01, -1.7329e+00, -8.4995e-01,  5.0130e-01,  2.8354e-01,\n",
       "          1.4828e-01, -6.7260e-01, -1.0588e+00,  1.6540e+00, -9.1331e-01,\n",
       "          2.9915e-01, -1.8303e-01, -5.1344e-01, -1.6071e-01, -2.0951e-01,\n",
       "         -1.3850e-02, -7.2377e-01,  2.7608e-01,  3.7477e-01,  6.8620e-01,\n",
       "         -1.7871e+00, -1.8791e-04,  1.2067e+00, -1.1918e+00,  1.6432e+00,\n",
       "          1.6082e+00, -1.9615e+00,  1.2088e+00,  3.0224e-01]])"
      ]
     },
     "execution_count": 10,
     "metadata": {},
     "output_type": "execute_result"
    }
   ],
   "source": [
    "t"
   ]
  },
  {
   "cell_type": "code",
   "execution_count": 11,
   "metadata": {},
   "outputs": [
    {
     "data": {
      "text/plain": [
       "tensor([[True, True, True, True, True, True, True, True, True, True, True, True,\n",
       "         True, True, True, True, True, True, True, True, True, True, True, True,\n",
       "         True, True, True, True, True, True, True, True, True, True, True, True,\n",
       "         True, True, True, True, True, True, True, True, True, True, True, True,\n",
       "         True, True, True, True, True, True, True, True, True, True, True, True,\n",
       "         True, True, True, True]])"
      ]
     },
     "execution_count": 11,
     "metadata": {},
     "output_type": "execute_result"
    }
   ],
   "source": [
    "t==noise"
   ]
  },
  {
   "cell_type": "code",
   "execution_count": 12,
   "metadata": {},
   "outputs": [
    {
     "data": {
      "text/plain": [
       "tensor([[ 1.1421e+00,  5.0329e-01, -1.5423e-01, -1.0201e+00, -5.9758e-02,\n",
       "          1.2274e+00, -4.0575e-01, -6.3474e-01,  3.5831e-01,  1.0383e+00,\n",
       "         -1.3535e+00, -1.1829e+00, -8.8681e-01,  2.4616e-01,  4.0922e-02,\n",
       "          7.7129e-01,  1.3546e+00,  1.0218e+00,  1.6678e+00, -1.1462e-01,\n",
       "         -3.0423e-02,  1.0832e+00, -1.6795e-01,  1.6680e-01, -2.9542e-01,\n",
       "          1.6191e-01,  2.2318e+00, -6.1487e-01,  9.0789e-01,  1.3390e+00,\n",
       "         -2.7850e-01, -1.6832e-01, -3.2627e-01, -5.6983e-01, -9.0154e-01,\n",
       "         -5.8674e-01, -1.7329e+00, -8.4995e-01,  5.0130e-01,  2.8354e-01,\n",
       "          1.4828e-01, -6.7260e-01, -1.0588e+00,  1.6540e+00, -9.1331e-01,\n",
       "          2.9915e-01, -1.8303e-01, -5.1344e-01, -1.6071e-01, -2.0951e-01,\n",
       "         -1.3850e-02, -7.2377e-01,  2.7608e-01,  3.7477e-01,  6.8620e-01,\n",
       "         -1.7871e+00, -1.8791e-04,  1.2067e+00, -1.1918e+00,  1.6432e+00,\n",
       "          1.6082e+00, -1.9615e+00,  1.2088e+00,  3.0224e-01]])"
      ]
     },
     "execution_count": 12,
     "metadata": {},
     "output_type": "execute_result"
    }
   ],
   "source": [
    "noise"
   ]
  },
  {
   "cell_type": "code",
   "execution_count": null,
   "metadata": {},
   "outputs": [],
   "source": []
  }
 ],
 "metadata": {
  "kernelspec": {
   "display_name": "Python 3.8.13 ('gan')",
   "language": "python",
   "name": "python3"
  },
  "language_info": {
   "codemirror_mode": {
    "name": "ipython",
    "version": 3
   },
   "file_extension": ".py",
   "mimetype": "text/x-python",
   "name": "python",
   "nbconvert_exporter": "python",
   "pygments_lexer": "ipython3",
   "version": "3.8.13"
  },
  "orig_nbformat": 4,
  "vscode": {
   "interpreter": {
    "hash": "1574755903cdb34dd59c92caa17a10f4d65534a19f0435b7dc632f13bd5d95f2"
   }
  }
 },
 "nbformat": 4,
 "nbformat_minor": 2
}
